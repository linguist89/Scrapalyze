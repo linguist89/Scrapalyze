{
 "cells": [
  {
   "cell_type": "code",
   "execution_count": 9,
   "metadata": {},
   "outputs": [],
   "source": [
    "import scrapalyze_v2\n",
    "urls = [\"https://www.news24.com/fin24/articles/leaked-document-eskom-leadership-gutted-by-state-capture-as-utility-fights-to-turn-around-20200726\",\n",
    "        \"https://www.news24.com/citypress/news/once-again-whistle-blower-takes-on-david-mabuza-in-r1bn-civil-suit-20200726\",\n",
    "        \"https://www.news24.com/news24/southafrica/news/how-and-why-presidents-spokesperson-khusela-diko-took-a-leave-of-absence-20200728\"\n",
    "      ]"
   ]
  },
  {
   "cell_type": "code",
   "execution_count": 10,
   "metadata": {},
   "outputs": [],
   "source": [
    "sc = scrapalyze_v2.Scrapalyze(urls[2])"
   ]
  },
  {
   "cell_type": "code",
   "execution_count": 13,
   "metadata": {},
   "outputs": [
    {
     "data": {
      "text/plain": [
       "'Tuesday, 28 July 1h ago  President Cyril Ramaphosa\\'s spokesperson Khusela Diko offered to step aside before his address to the nation last Thursday, after allegations surfaced that her husband\\'s company was awarded a Gauteng health department contract for personal protective equipment (PPE). But Ramaphosa seemed to have been satisfied with Diko\\'s explanation that her husband received the tender fairly.\\xa0 READ | Guns out for Bandile Masuku as pressure mounts for David Makhura to act This changed when Diko\\'s relationship with Gauteng Health MEC Bandile Masuku and his wife Loyiso created a political storm in which even Ramaphosa\\'s allies called for action to be taken against her. The allegations emanated from a\\xa0Sunday Independent\\xa0report that a R125 million PPE contract was awarded to AmaBhaca King Madzikane II Thandisizwe Diko - Khusela\\'s husband.\\xa0 The president\\'s spokesperson is also a member of the Gauteng\\'s ANC\\'s provincial executive committee.\\xa0 Potential conflict of interest In her meeting with Ramaphosa last week she was said to have told the president that the moment she heard about the contract, she anticipated a potential conflict of interest and told her husband to walk away from the deal.\\xa0 It was only when Diko\\'s relationship with Masuku and his wife was further exposed - and linked to the contract - that Ramaphosa was advised to accept her offer to step aside. Two insiders told News24 that initially, Diko explained that while she was not involved in her husband\\'s dealings, she immediately understood the perception of a conflict of interest.\\xa0 Diko was said to have indicated, in her meeting with Ramaphosa last week, that the Sunday Independent report was an effort to settle scores against her politically and would be used to tarnish the president\\'s name.\\xa0 The insider said: When Ramaphosa addressed the nation on Thursday evening, he took a hard line against Covid-19 corruption, announcing a Special investigating Unit proclamation to investigate \"Covid-19 corruption\". He also announced a co-ordinating structure of all law enforcement units to effectively deal with corruption linked to procurement amid the Covid-19 pandemic.\\xa0 Ramaphosa did not mention Diko and the allegations against her husband and the Gauteng Department of Health.\\xa0 READ |\\xa0President\\'s spokesperson Khusela Diko takes leave of absence in face of PPE procurement scandal A well-placed source said the information about the close proximity of Diko and her husband to the Masukus made it unavoidable for her to step aside. \"You cannot have a spokesperson to the president who, every time she talks, is asked about her own allegations,\" the source said.\\xa0 The person said that allegations that the money from the tender was said to support Loyiso Masuku\\'s political ambitions of becoming Johannesburg mayor were \"unavoidable\". Loyiso is a member of the mayoral committee in the City of Johannesburg. A third source said Diko had made it easier for Ramaphosa by suggesting, on her own, that she should step aside, and that the political fallout made it difficult for him to have her remain in office.\\xa0'"
      ]
     },
     "execution_count": 13,
     "metadata": {},
     "output_type": "execute_result"
    }
   ],
   "source": [
    "sc.scrape_by_element(element=\"p\").contents_text(filter_contents=(0,-15))"
   ]
  },
  {
   "cell_type": "code",
   "execution_count": 4,
   "metadata": {},
   "outputs": [
    {
     "ename": "NameError",
     "evalue": "name 'pd' is not defined",
     "output_type": "error",
     "traceback": [
      "\u001b[1;31m---------------------------------------------------------------------------\u001b[0m",
      "\u001b[1;31mNameError\u001b[0m                                 Traceback (most recent call last)",
      "\u001b[1;32m<ipython-input-4-fba929615bf0>\u001b[0m in \u001b[0;36m<module>\u001b[1;34m\u001b[0m\n\u001b[1;32m----> 1\u001b[1;33m \u001b[0mdf\u001b[0m \u001b[1;33m=\u001b[0m \u001b[0mpd\u001b[0m\u001b[1;33m.\u001b[0m\u001b[0mDataFrame\u001b[0m\u001b[1;33m(\u001b[0m\u001b[1;33m)\u001b[0m\u001b[1;33m\u001b[0m\u001b[1;33m\u001b[0m\u001b[0m\n\u001b[0m",
      "\u001b[1;31mNameError\u001b[0m: name 'pd' is not defined"
     ]
    }
   ],
   "source": [
    "df = pd.DataFrame()"
   ]
  }
 ],
 "metadata": {
  "kernelspec": {
   "display_name": "Python 3",
   "language": "python",
   "name": "python3"
  },
  "language_info": {
   "codemirror_mode": {
    "name": "ipython",
    "version": 3
   },
   "file_extension": ".py",
   "mimetype": "text/x-python",
   "name": "python",
   "nbconvert_exporter": "python",
   "pygments_lexer": "ipython3",
   "version": "3.7.4"
  }
 },
 "nbformat": 4,
 "nbformat_minor": 2
}
